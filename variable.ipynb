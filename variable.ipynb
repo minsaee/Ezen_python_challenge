{
 "cells": [
  {
   "cell_type": "markdown",
   "metadata": {},
   "source": [
    "## 변수(Variable)\n",
    " - data 저장을 위해 이름을 부여받은 메모리 공간(RAM)\n",
    " - 특정 키워드에 원하는 값을 대입하는 것\n",
    " - 대입연산자(\"=\")를 사용하여 오른쪽에 명시하는 값은 왼쪽에 대입한다.\n",
    " - variable(이름) = data type(값)\n",
    " - 초기화(변수선언)\n",
    " - 할당된 변수는 다른 값으로 변경이 가능하다.\n",
    " - 변수 이름은 영어,숫자,언더바만 사용할 수 있으며, 첫 글자는 숫자를 사용할 수 없다.\n",
    " - 또한 기능을 부여받은 예약어는 사용할 수 없다. (한글도 가능하다.)"
   ]
  },
  {
   "cell_type": "markdown",
   "metadata": {},
   "source": [
    "### 숫자형 변수의 유형"
   ]
  },
  {
   "cell_type": "markdown",
   "metadata": {},
   "source": [
    "### 지수 표기법\n",
    " - 10의 n제곱\n",
    " - 소수점 오른쪽으로 이동한다.\n",
    " - 지수형태\n",
    " - x = 수En -> 수(10의n제곱) e는 소문자 대문자 모두 가능"
   ]
  },
  {
   "cell_type": "code",
   "execution_count": 1,
   "metadata": {},
   "outputs": [
    {
     "name": "stdout",
     "output_type": "stream",
     "text": [
      "12300.0\n"
     ]
    }
   ],
   "source": [
    "# 1.23*(10의4제곱)\n",
    "e = 1.23e4\n",
    "\n",
    "print(e)"
   ]
  },
  {
   "cell_type": "markdown",
   "metadata": {},
   "source": [
    "### 지수 표기법\n",
    "- 10의 -n제곱\n",
    "- 소수점의 왼쪽으로 이동한다.\n",
    "- 지수형태\n",
    "- x = 수E-n -> 수(10의-n제곱) E는 소문자 대문자 모두 가능"
   ]
  },
  {
   "cell_type": "code",
   "execution_count": 6,
   "metadata": {},
   "outputs": [
    {
     "name": "stdout",
     "output_type": "stream",
     "text": [
      "0.0123\n"
     ]
    }
   ],
   "source": [
    "# 1.23*(10의-4제곱)\n",
    "f = 123e-4\n",
    "\n",
    "print(f)"
   ]
  },
  {
   "cell_type": "markdown",
   "metadata": {},
   "source": [
    "### 진법 표현\n",
    "- 8진수\n",
    "  - 숫자0 + 알파벳o(O) + 숫자값\n",
    "  - 10진수로 변환되어 결과값이 출력된다."
   ]
  },
  {
   "cell_type": "code",
   "execution_count": 8,
   "metadata": {},
   "outputs": [
    {
     "name": "stdout",
     "output_type": "stream",
     "text": [
      "219\n"
     ]
    }
   ],
   "source": [
    "g = 0O333\n",
    "\n",
    "print(g)"
   ]
  },
  {
   "cell_type": "markdown",
   "metadata": {},
   "source": [
    "- 16진수\n",
    "  - 숫자0 + 알파벳x(X) + 숫자값\n",
    "  - 10진수로 변환되어 결과값이 출력된다."
   ]
  },
  {
   "cell_type": "code",
   "execution_count": 9,
   "metadata": {},
   "outputs": [
    {
     "name": "stdout",
     "output_type": "stream",
     "text": [
      "2730\n"
     ]
    }
   ],
   "source": [
    "h = 0XAAA\n",
    "\n",
    "print(h)"
   ]
  },
  {
   "cell_type": "code",
   "execution_count": 14,
   "metadata": {},
   "outputs": [
    {
     "name": "stdout",
     "output_type": "stream",
     "text": [
      "123\n",
      "456\n",
      "321\n"
     ]
    }
   ],
   "source": [
    "# 정수형 변수\n",
    "a = 123\n",
    "b = 456\n",
    "\n",
    "print(a)\n",
    "print(b)\n",
    "\n",
    "# 할당된 변수를 다른 값으로 변환\n",
    "a = 321\n",
    "\n",
    "print(a)"
   ]
  },
  {
   "cell_type": "code",
   "execution_count": 15,
   "metadata": {},
   "outputs": [
    {
     "name": "stdout",
     "output_type": "stream",
     "text": [
      "1.23\n",
      "-4.56\n"
     ]
    }
   ],
   "source": [
    "# 실수형 변수\n",
    "c = 1.23\n",
    "d = -4.56\n",
    "\n",
    "print(c)\n",
    "print(d)"
   ]
  },
  {
   "cell_type": "markdown",
   "metadata": {},
   "source": [
    "### 논리형 변수\n",
    "- True는 참을 의미한다.\n",
    "- False는 거짓을 의미한다."
   ]
  },
  {
   "cell_type": "code",
   "execution_count": 17,
   "metadata": {},
   "outputs": [
    {
     "name": "stdout",
     "output_type": "stream",
     "text": [
      "True\n",
      "False\n"
     ]
    }
   ],
   "source": [
    "a = True\n",
    "b = False\n",
    "\n",
    "print(a)\n",
    "print(b)"
   ]
  },
  {
   "cell_type": "markdown",
   "metadata": {},
   "source": [
    "### 문자형 변수\n",
    " - \"\"와 ''를 이용해서 표현한다."
   ]
  },
  {
   "cell_type": "code",
   "execution_count": 20,
   "metadata": {},
   "outputs": [
    {
     "name": "stdout",
     "output_type": "stream",
     "text": [
      "Hello, Python\n",
      "Bye Bye Bye\n"
     ]
    }
   ],
   "source": [
    "msg = \"Hello, Python\"\n",
    "msg_a = 'Bye Bye Bye'\n",
    "\n",
    "print(msg)\n",
    "print(msg_a)"
   ]
  },
  {
   "cell_type": "markdown",
   "metadata": {},
   "source": [
    "### 내용이 없는 변수"
   ]
  },
  {
   "cell_type": "code",
   "execution_count": 22,
   "metadata": {},
   "outputs": [],
   "source": [
    "nothing = None\n",
    "\n",
    "nothing"
   ]
  },
  {
   "cell_type": "code",
   "execution_count": 23,
   "metadata": {},
   "outputs": [
    {
     "name": "stdout",
     "output_type": "stream",
     "text": [
      "None\n"
     ]
    }
   ],
   "source": [
    "#print()로 None값을 출력하면 None이 출력된다.\n",
    "\n",
    "print(nothing)"
   ]
  }
 ],
 "metadata": {
  "kernelspec": {
   "display_name": "Python 3",
   "language": "python",
   "name": "python3"
  },
  "language_info": {
   "codemirror_mode": {
    "name": "ipython",
    "version": 3
   },
   "file_extension": ".py",
   "mimetype": "text/x-python",
   "name": "python",
   "nbconvert_exporter": "python",
   "pygments_lexer": "ipython3",
   "version": "3.11.5"
  }
 },
 "nbformat": 4,
 "nbformat_minor": 2
}
