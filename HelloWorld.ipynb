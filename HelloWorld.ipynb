{
 "cells": [
  {
   "cell_type": "markdown",
   "metadata": {},
   "source": [
    "### Hello Python \n",
    "---\n",
    "- title은 #으로 나타내고 최대 6개까지 사용 가능하다.  \n",
    "---\n",
    "This is Visual Studio Code.  \n",
    "Hello Python\n",
    "\n",
    "---\n",
    "- VSCode 실행 후에 작업 폴더를 먼저 연다.\n",
    "- 새 파일 생성을 하기 위해 Ctrl + Shift + P -> \"Create:New Jupyter Notebook\" 실행\n",
    "- Shift+Enter : 실행 후 다음 블록이동(마지막 소스코드일 경우 생성)\n",
    "- Ctrl +Enter : 실행 후 현재 블록 머무르기.\n",
    "- Alt  +Enter : 실행 후 바로 뒤 블록 생성\n",
    "- ESC키와 Enter키로 블록편집모드 사용가능함.\n",
    "- 블록이 나뉘어져 있더라도 순서대로 실행 -> error시 밑에 블록 실행 안됨.\n",
    "---\n",
    "#### 주석문(comment)\n",
    "주석문이란 코드블록에서 주석만 달고 싶을 떄 (출력x)사용한다.\n",
    "- 주석문의 종류(코드블록)\n",
    " - 한 줄만 처리하는 주석문 -> 문장 앞에 \"#\" 기호 적용\n",
    " - 여러 줄을 처리하는 주석문 -> 3중 쌍따옴표 사용"
   ]
  },
  {
   "cell_type": "code",
   "execution_count": 7,
   "metadata": {},
   "outputs": [
    {
     "name": "stdout",
     "output_type": "stream",
     "text": [
      "Hello World\n"
     ]
    }
   ],
   "source": [
    "# 메세지를 출력하는 명령어\n",
    "print(\"Hello World\")"
   ]
  },
  {
   "cell_type": "code",
   "execution_count": 2,
   "metadata": {},
   "outputs": [],
   "source": [
    "a = 100 # 100을 의미하는 a라는 데이터 생성\n",
    "b = 200 # 200을 의미하는 b라는 데이터 생성"
   ]
  },
  {
   "cell_type": "code",
   "execution_count": 6,
   "metadata": {},
   "outputs": [
    {
     "name": "stdout",
     "output_type": "stream",
     "text": [
      "300\n"
     ]
    }
   ],
   "source": [
    "# 합산 결과 출력하기\n",
    "print(a+b)"
   ]
  }
 ],
 "metadata": {
  "kernelspec": {
   "display_name": "Python 3",
   "language": "python",
   "name": "python3"
  },
  "language_info": {
   "codemirror_mode": {
    "name": "ipython",
    "version": 3
   },
   "file_extension": ".py",
   "mimetype": "text/x-python",
   "name": "python",
   "nbconvert_exporter": "python",
   "pygments_lexer": "ipython3",
   "version": "3.11.5"
  }
 },
 "nbformat": 4,
 "nbformat_minor": 2
}
